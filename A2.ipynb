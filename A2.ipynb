{
  "nbformat": 4,
  "nbformat_minor": 0,
  "metadata": {
    "colab": {
      "name": "Untitled",
      "provenance": []
    },
    "kernelspec": {
      "name": "python3",
      "display_name": "Python 3"
    },
    "language_info": {
      "name": "python"
    }
  },
  "cells": [
    {
      "cell_type": "markdown",
      "metadata": {
        "id": "qD6XtO1RxkVx"
      },
      "source": [
        "# 1. Explain clearly why V_pi is not useful in the MC development above?"
      ]
    },
    {
      "cell_type": "markdown",
      "metadata": {
        "id": "2F92rrOGxnwx"
      },
      "source": [
        "Since in MC method, most likely we do not have the model of the environment. So we don't know the state transition probability. Therefore, with only V(s) we cannot make a decision which action should be taken. "
      ]
    },
    {
      "cell_type": "markdown",
      "metadata": {
        "id": "kiyvzT5a0wdx"
      },
      "source": [
        "# 2. The MC algorithm so far (ref: p 99), requires an infinite number of episodes for Eval to converge on Q_pi_k (step k). We can modify this algorithm to the practical variant where Eval is truncated (c.f., DynProg GPI). In this case:\n"
      ]
    },
    {
      "cell_type": "markdown",
      "metadata": {
        "id": "YDC6WVrO03H4"
      },
      "source": [
        "# a. Will we obtain Q_pi_k from eval?"
      ]
    },
    {
      "cell_type": "markdown",
      "metadata": {
        "id": "Q_t48E4v05Vu"
      },
      "source": [
        "eventually, yes."
      ]
    },
    {
      "cell_type": "markdown",
      "metadata": {
        "id": "whDKMReJ2t0Y"
      },
      "source": [
        "# b. If not why are we able to truncate Eval? Explain clearly."
      ]
    },
    {
      "cell_type": "markdown",
      "metadata": {
        "id": "0PtvAZpK2xur"
      },
      "source": [
        "The basic idea is that the truncate Eval provides improvement to Q_pi so that ideally a better policy can be drawn from this improved Q_pi. Therefore, even though truncate Eval would take more policy iteration steps, it would eventually converge to the optimal policy with a fit Q"
      ]
    },
    {
      "cell_type": "markdown",
      "metadata": {
        "id": "Eq118odH39z8"
      },
      "source": [
        "# c. Assuming ES (i.e., thorough sampling of the S x A space), and the above truncated Eval_trunc, is it possible to converge on a sub-optimal policy pi_c? Is this a stable fixed point of the GPI for MC? Explain clearly."
      ]
    },
    {
      "cell_type": "markdown",
      "metadata": {
        "id": "aIJyLSGZ4Ay9"
      },
      "source": [
        "No, when the policy is converged to improve very slowly based on the deficient Q from the truncated Eval, the truncated Eval will be repeated each iteration and become a complete Eval which gives a perfect Q_pi_c. If pi_c is not the optimal policy, the policy would still be inproved based on the perfect Q_pi_c."
      ]
    },
    {
      "cell_type": "markdown",
      "metadata": {
        "id": "KTBMAAkR_SYV"
      },
      "source": [
        "# 3. Explain how you can synthesize a stochastic policy given what you know so far (you don't need to read ahead)."
      ]
    },
    {
      "cell_type": "markdown",
      "metadata": {
        "id": "KtYblji2_Xgz"
      },
      "source": [
        "Using a e-greedy policy with decay each episode on e so the policy eventually becomes a deterministic policy."
      ]
    },
    {
      "cell_type": "markdown",
      "metadata": {
        "id": "4I3dn6Ss_0QO"
      },
      "source": [
        "# Code the algorithm for MC Control (Off Policy) and apply this to the Cart Pole problem. You must discretize the environmental feedback (S) in order to solve this problem properly."
      ]
    },
    {
      "cell_type": "code",
      "metadata": {
        "id": "7gHnzbCBEPU6"
      },
      "source": [
        "from random import randint\n",
        "import math\n",
        "import gym\n",
        "import numpy as np\n",
        "import matplotlib.pyplot as plt\n",
        "from IPython import display as ipythondisplay"
      ],
      "execution_count": 1,
      "outputs": []
    },
    {
      "cell_type": "code",
      "metadata": {
        "id": "GUOQzu_AEWca"
      },
      "source": [
        "env = gym.make(\"CartPole-v0\")"
      ],
      "execution_count": 2,
      "outputs": []
    },
    {
      "cell_type": "code",
      "metadata": {
        "id": "96TDqV0rrqLn"
      },
      "source": [
        "class MC():\n",
        "  def __init__(self):\n",
        "    self.stepsHistory = [0]*500000\n",
        "    self.value = {}\n",
        "    self.maxlifetime = 200\n",
        "    self.c = {}\n",
        "  \n",
        "  def act(self, state):\n",
        "    return np.argmax(self.value[state])\n",
        "\n",
        "\n",
        "  def behavier_policy(self):\n",
        "    return env.action_space.sample()\n",
        "\n",
        "  def mc_sample(self, obs, epicode_count):\n",
        "    episodeStatesActions = []\n",
        "    G = 0\n",
        "    w = 1\n",
        "    for t in range(self.maxlifetime):\n",
        "      state = self.getState(obs)\n",
        "      action = self.behavier_policy()\n",
        "      episodeStatesActions.append({'state': state, 'action': action})\n",
        "      obs, reward, done, _ = env.step(action)\n",
        "      G += reward\n",
        "      if done:\n",
        "        self.stepsHistory[epicode_count] = t\n",
        "        for i in range(len(episodeStatesActions))[::-1]:\n",
        "          state_action = episodeStatesActions[i]\n",
        "          self.update(state_action['state'], state_action['action'], G-i, w)\n",
        "          if state_action['action'] != self.act(state_action['state']):\n",
        "            break\n",
        "          w = w*2\n",
        "        break\n",
        "\n",
        "  def update(self, state, action, G, w):\n",
        "    if not state in self.c:\n",
        "      self.c[state] = []\n",
        "      for _ in range(env.action_space.n):\n",
        "        self.c[state].append(0)\n",
        "    if not state in self.value:\n",
        "      self.value[state] = []\n",
        "      for _ in range(env.action_space.n):\n",
        "        self.value[state].append(0)\n",
        "    self.c[state][action] += w\n",
        "    self.value[state][action] += (w / self.c[state][action]) * (G - self.value[state][action])\n",
        "\n",
        "\n",
        "  def getState(self,obs):\n",
        "    state = \"\"\n",
        "    for o in obs:\n",
        "      state += str(math.floor(o))\n",
        "    return state"
      ],
      "execution_count": 7,
      "outputs": []
    },
    {
      "cell_type": "code",
      "metadata": {
        "id": "8CEws3Ok365j"
      },
      "source": [
        "\"\"\"  def act(self,state):\n",
        "    maxValue = env.action_space.sample()\n",
        "    if not state in self.value:\n",
        "      self.value[state] = []\n",
        "      for _ in range(env.action_space.n):\n",
        "        self.value[state].append({'count':0, 'value':0})\n",
        "    for action in range(env.action_space.n):\n",
        "      if self.value[state][maxValue]['value'] < self.value[state][action]['value']:\n",
        "        \n",
        "        maxValue = action\n",
        "      return maxValue\"\"\""
      ],
      "execution_count": null,
      "outputs": []
    },
    {
      "cell_type": "code",
      "metadata": {
        "id": "O4eYTloaU__-"
      },
      "source": [
        "agent = MC()\n",
        "for epicode_count in range(500000):\n",
        "  obs = env.reset()\n",
        "  agent.mc_sample(obs,epicode_count)"
      ],
      "execution_count": 22,
      "outputs": []
    },
    {
      "cell_type": "code",
      "metadata": {
        "id": "lOWas9gBXKQ1"
      },
      "source": [
        "!apt-get install -y xvfb python-opengl > /dev/null 2>&1"
      ],
      "execution_count": 3,
      "outputs": []
    },
    {
      "cell_type": "code",
      "metadata": {
        "id": "WC8VPjuvXNlR"
      },
      "source": [
        "!pip install gym pyvirtualdisplay > /dev/null 2>&1"
      ],
      "execution_count": 4,
      "outputs": []
    },
    {
      "cell_type": "code",
      "metadata": {
        "colab": {
          "base_uri": "https://localhost:8080/"
        },
        "id": "_MOiPveWXO5L",
        "outputId": "cffba715-eab6-4e02-e953-3db2628af107"
      },
      "source": [
        "from pyvirtualdisplay import Display\n",
        "display = Display(visible=0, size=(400, 300))\n",
        "display.start()"
      ],
      "execution_count": 5,
      "outputs": [
        {
          "output_type": "execute_result",
          "data": {
            "text/plain": [
              "<pyvirtualdisplay.display.Display at 0x7fed16c0e6d0>"
            ]
          },
          "metadata": {
            "tags": []
          },
          "execution_count": 5
        }
      ]
    },
    {
      "cell_type": "code",
      "metadata": {
        "colab": {
          "base_uri": "https://localhost:8080/",
          "height": 286
        },
        "id": "ZRH0XtxyW1A0",
        "outputId": "4395e105-1f11-4715-a158-2bffd964d1b5"
      },
      "source": [
        "\n",
        "env.reset()\n",
        "prev_screen = env.render(mode='rgb_array')\n",
        "plt.imshow(prev_screen)\n",
        "obs = env.reset()\n",
        "for i in range(50000):\n",
        "  state = agent.getState(obs)\n",
        "  action = agent.act(state)\n",
        "  print(\"step i\",i,\"action=\",action)\n",
        "  obs, reward, done, info = env.step(action)\n",
        "  print(\"obs=\",obs,\"reward=\",reward,\"done=\",done,\"info=\",info)\n",
        "  screen = env.render(mode='rgb_array')\n",
        "  \n",
        "  plt.imshow(screen)\n",
        "  ipythondisplay.clear_output(wait=True)\n",
        "  ipythondisplay.display(plt.gcf())\n",
        "\n",
        "  if done:\n",
        "    break\n",
        "    \n",
        "ipythondisplay.clear_output(wait=True)\n",
        "env.close()\n",
        "print(\"Iterations that were run:\",i)"
      ],
      "execution_count": 24,
      "outputs": [
        {
          "output_type": "stream",
          "text": [
            "Iterations that were run: 126\n"
          ],
          "name": "stdout"
        },
        {
          "output_type": "display_data",
          "data": {
            "image/png": "[encoded data removed]",
            "text/plain": [
              "<Figure size 432x288 with 1 Axes>"
            ]
          },
          "metadata": {
            "tags": [],
            "needs_background": "light"
          }
        }
      ]
    }
  ]
}