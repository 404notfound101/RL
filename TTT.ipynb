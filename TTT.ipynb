{
  "nbformat": 4,
  "nbformat_minor": 0,
  "metadata": {
    "colab": {
      "name": "TTT.ipynb",
      "provenance": [],
      "collapsed_sections": []
    },
    "kernelspec": {
      "name": "python3",
      "display_name": "Python 3"
    },
    "language_info": {
      "name": "python"
    }
  },
  "cells": [
    {
      "cell_type": "code",
      "metadata": {
        "id": "lDKp_WeBHjcP"
      },
      "source": [
        "import numpy as np\n",
        "import matplotlib.pyplot as plt"
      ],
      "execution_count": null,
      "outputs": []
    },
    {
      "cell_type": "markdown",
      "metadata": {
        "id": "PdAy-g9eRuwb"
      },
      "source": [
        "# 1. What is an autonomous machine, and what does autonomy mean?"
      ]
    },
    {
      "cell_type": "markdown",
      "metadata": {
        "id": "HEeWikp8RxCq"
      },
      "source": [
        "Autonomous machines are able to accomplish their goal (in the environment) without external control. The ability of a system to operate fully under its own laws of operation, not requiring external control"
      ]
    },
    {
      "cell_type": "markdown",
      "metadata": {
        "id": "uaEl2l01SHRm"
      },
      "source": [
        "# 2a. Classical AI techniques employ trees of decision constructs (if statements, etc.) to achieve some form of \"intelligent\"-like behavior. An example of this is the famous Eliza AI-based \"psychotherapist\". What do you feel are the strengths and weaknesses of such an approach? State and explain three such strengths and three weaknesses."
      ]
    },
    {
      "cell_type": "markdown",
      "metadata": {
        "id": "8RzYfb_XSJ44"
      },
      "source": [
        "strengths: 1. firm decision, 2. better modelling 3. visual procedures. \n",
        "\n",
        "weaknesses: 1. require high level knowledge on the nature of the problem, 2. unable to fit new phenomenon, 3. complex structure"
      ]
    },
    {
      "cell_type": "markdown",
      "metadata": {
        "id": "ms7DK-PxZM1Y"
      },
      "source": [
        "# 2b. Data Science includes signal processing, adaptive filters, supervised and unsupervised machine learning. These techniques solve the modeling problem from the perspective of the data. That is, they serve to classify signals (data), interpolate signals (data), or extract signal from noise. Comment on how these functions relate to artificial intelligence?"
      ]
    },
    {
      "cell_type": "markdown",
      "metadata": {
        "id": "6XaJlBtxZPJt"
      },
      "source": [
        "The artificial neural network provides the program with the ability to generalize from its experience, so that in new states it selects moves based on information saved from similar states faced in the past, as determined by the network. How well a reinforcement learning system can work in problems with such large state sets is intimately tied to how appropriately it can generalize from past experience. It is in this role that we have the greatest need for supervised learning methods within reinforcement learning. "
      ]
    },
    {
      "cell_type": "markdown",
      "metadata": {
        "id": "LtmqAOiWb94e"
      },
      "source": [
        "# 2c. Control theory concerns the development of feedback laws (i.e., control laws) that strive to push a system (the \"plant\") to a desired state. It does this based on observation of essential characteristics of the plant (the state, or some possibly noisy or lossy observation of the state), and construction of an appropriate feedback signal. How does this tool compare with the prior two, relating to the development of an autonomous system? Explain the similarities and differences from a structural (high level) point of view."
      ]
    },
    {
      "cell_type": "markdown",
      "metadata": {
        "id": "VvKXzroYcBUL"
      },
      "source": [
        "Control theory is based on modeling the environment and problem instead of analyzing all possible steps as done in classical digital computer algorism. Also, different from RL, control theory requires specific manually designed model for the environment and controller."
      ]
    },
    {
      "cell_type": "markdown",
      "metadata": {
        "id": "Z9TUVVG0Sg6O"
      },
      "source": [
        "# 1. Create a python class maintains the TTT board. It should have a reset method (to clear the TTT board), methods for setting the position of the board for each player, and a method to indicate whether the game has been won (returning who has won), or whether the game is at a draw."
      ]
    },
    {
      "cell_type": "code",
      "metadata": {
        "id": "_qSROldhiH2d"
      },
      "source": [
        "class TTT():\n",
        "  board = np.zeros((2,3,3))\n",
        "  magic = np.array([[2,7,6],[9,5,1],[4,3,8]])\n",
        "  def __init__(self,player):\n",
        "    self.player = player\n",
        "    self.moves = np.zeros((3,3))\n",
        "  def move(self, state):\n",
        "    self.board += state\n",
        "    self.moves += state[0]\n",
        "    if np.sum(self.board[0]>1) != 0:\n",
        "      self.board -= state\n",
        "      self.moves -= state[0]\n",
        "      print(\"invalid move!\")\n",
        "      \n",
        "    if np.sum(self.moves*self.magic) == 15:\n",
        "      print(self.player + \" won!\")\n",
        "      \n",
        "\n",
        "    if np.sum(self.board[0]) == 9:\n",
        "      print(\"draw\")\n",
        "      \n",
        "    print(self.board)\n",
        "  \n",
        "  def reset(self):\n",
        "    self.board *= 0\n",
        "    self.moves *= 0\n"
      ],
      "execution_count": null,
      "outputs": []
    },
    {
      "cell_type": "markdown",
      "metadata": {
        "id": "MHUU-AG5SjR-"
      },
      "source": [
        "# 2. Test this python class, by playing a two-human game of TTT."
      ]
    },
    {
      "cell_type": "code",
      "metadata": {
        "id": "lXL37C3l8QBs"
      },
      "source": [
        "A = TTT(\"player A\")\n",
        "B = TTT(\"player B\")"
      ],
      "execution_count": null,
      "outputs": []
    },
    {
      "cell_type": "code",
      "metadata": {
        "colab": {
          "base_uri": "https://localhost:8080/"
        },
        "id": "0Co5dXno9YAG",
        "outputId": "6635772c-2839-425c-de18-cf234bff1a30"
      },
      "source": [
        "A.moves"
      ],
      "execution_count": null,
      "outputs": [
        {
          "output_type": "execute_result",
          "data": {
            "text/plain": [
              "array([[0., 0., 0.],\n",
              "       [0., 0., 0.],\n",
              "       [0., 0., 0.]])"
            ]
          },
          "metadata": {
            "tags": []
          },
          "execution_count": 179
        }
      ]
    },
    {
      "cell_type": "code",
      "metadata": {
        "colab": {
          "base_uri": "https://localhost:8080/"
        },
        "id": "p692oNDE8bDY",
        "outputId": "68186d0f-a61a-45a4-8205-1cff30f48669"
      },
      "source": [
        "A.move(np.array([[[1,0,0],[0,0,0],[0,0,0]],[[1,0,0],[0,0,0],[0,0,0]]]))"
      ],
      "execution_count": null,
      "outputs": [
        {
          "output_type": "stream",
          "text": [
            "[[[1. 0. 0.]\n",
            "  [0. 0. 0.]\n",
            "  [0. 0. 0.]]\n",
            "\n",
            " [[1. 0. 0.]\n",
            "  [0. 0. 0.]\n",
            "  [0. 0. 0.]]]\n"
          ],
          "name": "stdout"
        }
      ]
    },
    {
      "cell_type": "code",
      "metadata": {
        "colab": {
          "base_uri": "https://localhost:8080/"
        },
        "id": "Bf4N1Zjb-qrC",
        "outputId": "520fa9d5-7b06-4512-8df6-a6988baa522a"
      },
      "source": [
        "B.move(np.array([[[0,0,0],[0,1,0],[0,0,0]],[[0,0,0],[0,0,0],[0,0,0]]]))"
      ],
      "execution_count": null,
      "outputs": [
        {
          "output_type": "stream",
          "text": [
            "[[[1. 0. 0.]\n",
            "  [0. 1. 0.]\n",
            "  [0. 0. 0.]]\n",
            "\n",
            " [[1. 0. 0.]\n",
            "  [0. 0. 0.]\n",
            "  [0. 0. 0.]]]\n"
          ],
          "name": "stdout"
        }
      ]
    },
    {
      "cell_type": "code",
      "metadata": {
        "colab": {
          "base_uri": "https://localhost:8080/"
        },
        "id": "xk8b5QH1-_4a",
        "outputId": "abfe766a-8ec4-48c1-9a38-801f5cca8d83"
      },
      "source": [
        "A.board"
      ],
      "execution_count": null,
      "outputs": [
        {
          "output_type": "execute_result",
          "data": {
            "text/plain": [
              "array([[[1., 0., 0.],\n",
              "        [0., 1., 0.],\n",
              "        [0., 0., 0.]],\n",
              "\n",
              "       [[1., 0., 0.],\n",
              "        [0., 0., 0.],\n",
              "        [0., 0., 0.]]])"
            ]
          },
          "metadata": {
            "tags": []
          },
          "execution_count": 182
        }
      ]
    },
    {
      "cell_type": "code",
      "metadata": {
        "colab": {
          "base_uri": "https://localhost:8080/"
        },
        "id": "Xt5nPABn_Hos",
        "outputId": "55301fe7-90b1-4094-b711-d5f443570b6d"
      },
      "source": [
        "A.move(np.array([[[0,1,0],[0,0,0],[0,0,0]],[[0,1,0],[0,0,0],[0,0,0]]]))"
      ],
      "execution_count": null,
      "outputs": [
        {
          "output_type": "stream",
          "text": [
            "[[[1. 1. 0.]\n",
            "  [0. 1. 0.]\n",
            "  [0. 0. 0.]]\n",
            "\n",
            " [[1. 1. 0.]\n",
            "  [0. 0. 0.]\n",
            "  [0. 0. 0.]]]\n"
          ],
          "name": "stdout"
        }
      ]
    },
    {
      "cell_type": "code",
      "metadata": {
        "colab": {
          "base_uri": "https://localhost:8080/"
        },
        "id": "sS0dRkNZ_TZx",
        "outputId": "6e77b1a0-699a-4e78-ea64-8ac8e66022a2"
      },
      "source": [
        "B.move(np.array([[[0,0,0],[0,0,1],[0,0,0]],[[0,0,0],[0,0,0],[0,0,0]]]))"
      ],
      "execution_count": null,
      "outputs": [
        {
          "output_type": "stream",
          "text": [
            "[[[1. 1. 0.]\n",
            "  [0. 1. 1.]\n",
            "  [0. 0. 0.]]\n",
            "\n",
            " [[1. 1. 0.]\n",
            "  [0. 0. 0.]\n",
            "  [0. 0. 0.]]]\n"
          ],
          "name": "stdout"
        }
      ]
    },
    {
      "cell_type": "code",
      "metadata": {
        "colab": {
          "base_uri": "https://localhost:8080/"
        },
        "id": "uaCtvuBz_ZJQ",
        "outputId": "986a2b2b-90b5-42ee-9eb6-964e6a2a2aa3"
      },
      "source": [
        "A.move(np.array([[[0,0,1],[0,0,0],[0,0,0]],[[0,0,1],[0,0,0],[0,0,0]]]))"
      ],
      "execution_count": null,
      "outputs": [
        {
          "output_type": "stream",
          "text": [
            "player A won!\n",
            "[[[1. 1. 1.]\n",
            "  [0. 1. 1.]\n",
            "  [0. 0. 0.]]\n",
            "\n",
            " [[1. 1. 1.]\n",
            "  [0. 0. 0.]\n",
            "  [0. 0. 0.]]]\n"
          ],
          "name": "stdout"
        }
      ]
    },
    {
      "cell_type": "code",
      "metadata": {
        "colab": {
          "base_uri": "https://localhost:8080/"
        },
        "id": "UmDJQRSMPlk9",
        "outputId": "dbaee6a3-35c5-4bea-d22a-90d541db3379"
      },
      "source": [
        "A.moves"
      ],
      "execution_count": null,
      "outputs": [
        {
          "output_type": "execute_result",
          "data": {
            "text/plain": [
              "array([[1., 1., 1.],\n",
              "       [0., 0., 0.],\n",
              "       [0., 0., 0.]])"
            ]
          },
          "metadata": {
            "tags": []
          },
          "execution_count": 186
        }
      ]
    },
    {
      "cell_type": "code",
      "metadata": {
        "colab": {
          "base_uri": "https://localhost:8080/"
        },
        "id": "JkPx-qEEPnug",
        "outputId": "07966bb1-d3bd-403e-e724-f99078b5fd97"
      },
      "source": [
        "B.moves"
      ],
      "execution_count": null,
      "outputs": [
        {
          "output_type": "execute_result",
          "data": {
            "text/plain": [
              "array([[0., 0., 0.],\n",
              "       [0., 1., 1.],\n",
              "       [0., 0., 0.]])"
            ]
          },
          "metadata": {
            "tags": []
          },
          "execution_count": 187
        }
      ]
    },
    {
      "cell_type": "code",
      "metadata": {
        "id": "lV_d06Ev_nUM"
      },
      "source": [
        "A.reset()\n",
        "B.reset()"
      ],
      "execution_count": null,
      "outputs": []
    },
    {
      "cell_type": "code",
      "metadata": {
        "colab": {
          "base_uri": "https://localhost:8080/"
        },
        "id": "MmDMhJYSDADD",
        "outputId": "21ddc861-da51-4dcb-d604-17e8030a1b48"
      },
      "source": [
        "B.board"
      ],
      "execution_count": null,
      "outputs": [
        {
          "output_type": "execute_result",
          "data": {
            "text/plain": [
              "array([[[0., 0., 0.],\n",
              "        [0., 0., 0.],\n",
              "        [0., 0., 0.]],\n",
              "\n",
              "       [[0., 0., 0.],\n",
              "        [0., 0., 0.],\n",
              "        [0., 0., 0.]]])"
            ]
          },
          "metadata": {
            "tags": []
          },
          "execution_count": 191
        }
      ]
    },
    {
      "cell_type": "code",
      "metadata": {
        "colab": {
          "base_uri": "https://localhost:8080/"
        },
        "id": "RNGz7oFq_suG",
        "outputId": "502f5df8-3502-4a3c-b378-3767351aa24d"
      },
      "source": [
        "A.move(np.array([[[1,0,0],[0,0,0],[0,0,0]],[[1,0,0],[0,0,0],[0,0,0]]]))"
      ],
      "execution_count": null,
      "outputs": [
        {
          "output_type": "stream",
          "text": [
            "[[[1. 0. 0.]\n",
            "  [0. 0. 0.]\n",
            "  [0. 0. 0.]]\n",
            "\n",
            " [[1. 0. 0.]\n",
            "  [0. 0. 0.]\n",
            "  [0. 0. 0.]]]\n"
          ],
          "name": "stdout"
        }
      ]
    },
    {
      "cell_type": "code",
      "metadata": {
        "colab": {
          "base_uri": "https://localhost:8080/"
        },
        "id": "7sG8ZFPADC5A",
        "outputId": "58adac3d-c6a1-4fff-d92a-70ccd94970eb"
      },
      "source": [
        "A.board"
      ],
      "execution_count": null,
      "outputs": [
        {
          "output_type": "execute_result",
          "data": {
            "text/plain": [
              "array([[[1., 0., 0.],\n",
              "        [0., 0., 0.],\n",
              "        [0., 0., 0.]],\n",
              "\n",
              "       [[1., 0., 0.],\n",
              "        [0., 0., 0.],\n",
              "        [0., 0., 0.]]])"
            ]
          },
          "metadata": {
            "tags": []
          },
          "execution_count": 193
        }
      ]
    },
    {
      "cell_type": "code",
      "metadata": {
        "colab": {
          "base_uri": "https://localhost:8080/"
        },
        "id": "yFNE_jJJCClo",
        "outputId": "995e8e59-43d0-45be-9308-42d5b6be53ea"
      },
      "source": [
        "B.board"
      ],
      "execution_count": null,
      "outputs": [
        {
          "output_type": "execute_result",
          "data": {
            "text/plain": [
              "array([[[1., 0., 0.],\n",
              "        [0., 0., 0.],\n",
              "        [0., 0., 0.]],\n",
              "\n",
              "       [[1., 0., 0.],\n",
              "        [0., 0., 0.],\n",
              "        [0., 0., 0.]]])"
            ]
          },
          "metadata": {
            "tags": []
          },
          "execution_count": 195
        }
      ]
    },
    {
      "cell_type": "code",
      "metadata": {
        "colab": {
          "base_uri": "https://localhost:8080/"
        },
        "id": "vnBy6cXH_0_r",
        "outputId": "32503191-07f7-42cb-d24b-cc7ab8aed3e3"
      },
      "source": [
        "B.move(np.array([[[0,0,0],[0,1,0],[0,0,0]],[[0,0,0],[0,0,0],[0,0,0]]]))"
      ],
      "execution_count": null,
      "outputs": [
        {
          "output_type": "stream",
          "text": [
            "[[[1. 0. 0.]\n",
            "  [0. 1. 0.]\n",
            "  [0. 0. 0.]]\n",
            "\n",
            " [[1. 0. 0.]\n",
            "  [0. 0. 0.]\n",
            "  [0. 0. 0.]]]\n"
          ],
          "name": "stdout"
        }
      ]
    },
    {
      "cell_type": "code",
      "metadata": {
        "colab": {
          "base_uri": "https://localhost:8080/"
        },
        "id": "aSb0jfxIQSxE",
        "outputId": "ea66efee-03c4-40df-dbf1-efe1c072e2b1"
      },
      "source": [
        "A.move(np.array([[[0,1,0],[0,0,0],[0,0,0]],[[0,1,0],[0,0,0],[0,0,0]]]))"
      ],
      "execution_count": null,
      "outputs": [
        {
          "output_type": "stream",
          "text": [
            "[[[1. 1. 0.]\n",
            "  [0. 1. 0.]\n",
            "  [0. 0. 0.]]\n",
            "\n",
            " [[1. 1. 0.]\n",
            "  [0. 0. 0.]\n",
            "  [0. 0. 0.]]]\n"
          ],
          "name": "stdout"
        }
      ]
    },
    {
      "cell_type": "code",
      "metadata": {
        "colab": {
          "base_uri": "https://localhost:8080/"
        },
        "id": "6HUH13gWQaM_",
        "outputId": "bba4c064-a7d7-44db-e444-bb1e93e3e872"
      },
      "source": [
        "B.move(np.array([[[0,0,1],[0,0,0],[0,0,0]],[[0,0,0],[0,0,0],[0,0,0]]]))"
      ],
      "execution_count": null,
      "outputs": [
        {
          "output_type": "stream",
          "text": [
            "[[[1. 1. 1.]\n",
            "  [0. 1. 0.]\n",
            "  [0. 0. 0.]]\n",
            "\n",
            " [[1. 1. 0.]\n",
            "  [0. 0. 0.]\n",
            "  [0. 0. 0.]]]\n"
          ],
          "name": "stdout"
        }
      ]
    },
    {
      "cell_type": "code",
      "metadata": {
        "colab": {
          "base_uri": "https://localhost:8080/"
        },
        "id": "qN5tMW1JQiu8",
        "outputId": "888d30c8-3641-46c7-b49e-4526d1d999f1"
      },
      "source": [
        "A.move(np.array([[[0,0,0],[0,0,0],[1,0,0]],[[0,0,0],[0,0,0],[1,0,0]]]))"
      ],
      "execution_count": null,
      "outputs": [
        {
          "output_type": "stream",
          "text": [
            "[[[1. 1. 1.]\n",
            "  [0. 1. 0.]\n",
            "  [1. 0. 0.]]\n",
            "\n",
            " [[1. 1. 0.]\n",
            "  [0. 0. 0.]\n",
            "  [1. 0. 0.]]]\n"
          ],
          "name": "stdout"
        }
      ]
    },
    {
      "cell_type": "code",
      "metadata": {
        "colab": {
          "base_uri": "https://localhost:8080/"
        },
        "id": "bF4fJ1fkRw1N",
        "outputId": "c6a498c2-cb4d-4795-e2ae-7c056bacb9c5"
      },
      "source": [
        "B.move(np.array([[[0,0,0],[1,0,0],[0,0,0]],[[0,0,0],[0,0,0],[0,0,0]]]))"
      ],
      "execution_count": null,
      "outputs": [
        {
          "output_type": "stream",
          "text": [
            "[[[1. 1. 1.]\n",
            "  [1. 1. 0.]\n",
            "  [1. 0. 0.]]\n",
            "\n",
            " [[1. 1. 0.]\n",
            "  [0. 0. 0.]\n",
            "  [1. 0. 0.]]]\n"
          ],
          "name": "stdout"
        }
      ]
    },
    {
      "cell_type": "code",
      "metadata": {
        "colab": {
          "base_uri": "https://localhost:8080/"
        },
        "id": "eUzyaJCkR1nE",
        "outputId": "357120ec-2bb0-4b93-96ef-8b8fde1b9b21"
      },
      "source": [
        "A.move(np.array([[[0,0,0],[0,0,1],[0,0,0]],[[0,0,0],[0,0,1],[0,0,0]]]))"
      ],
      "execution_count": null,
      "outputs": [
        {
          "output_type": "stream",
          "text": [
            "[[[1. 1. 1.]\n",
            "  [1. 1. 1.]\n",
            "  [1. 0. 0.]]\n",
            "\n",
            " [[1. 1. 0.]\n",
            "  [0. 0. 1.]\n",
            "  [1. 0. 0.]]]\n"
          ],
          "name": "stdout"
        }
      ]
    },
    {
      "cell_type": "code",
      "metadata": {
        "colab": {
          "base_uri": "https://localhost:8080/"
        },
        "id": "zgqQ4yy9SAA0",
        "outputId": "3f3a20c7-1550-4c10-c998-4867055767f0"
      },
      "source": [
        "B.move(np.array([[[0,0,0],[0,0,0],[0,0,1]],[[0,0,0],[0,0,0],[0,0,0]]]))"
      ],
      "execution_count": null,
      "outputs": [
        {
          "output_type": "stream",
          "text": [
            "[[[1. 1. 1.]\n",
            "  [1. 1. 1.]\n",
            "  [1. 0. 1.]]\n",
            "\n",
            " [[1. 1. 0.]\n",
            "  [0. 0. 1.]\n",
            "  [1. 0. 0.]]]\n"
          ],
          "name": "stdout"
        }
      ]
    },
    {
      "cell_type": "code",
      "metadata": {
        "colab": {
          "base_uri": "https://localhost:8080/"
        },
        "id": "mEHGSRIJSFZO",
        "outputId": "211f1c31-d934-4678-a57c-e4713a0592a2"
      },
      "source": [
        "A.move(np.array([[[0,0,0],[0,0,0],[0,1,0]],[[0,0,0],[0,0,0],[0,1,0]]]))"
      ],
      "execution_count": null,
      "outputs": [
        {
          "output_type": "stream",
          "text": [
            "draw\n",
            "[[[1. 1. 1.]\n",
            "  [1. 1. 1.]\n",
            "  [1. 1. 1.]]\n",
            "\n",
            " [[1. 1. 0.]\n",
            "  [0. 0. 1.]\n",
            "  [1. 1. 0.]]]\n"
          ],
          "name": "stdout"
        }
      ]
    },
    {
      "cell_type": "code",
      "metadata": {
        "id": "JT0wDN0oSJsk"
      },
      "source": [
        "A.reset()\n",
        "B.reset()"
      ],
      "execution_count": null,
      "outputs": []
    },
    {
      "cell_type": "code",
      "metadata": {
        "colab": {
          "base_uri": "https://localhost:8080/"
        },
        "id": "AbOCIqAOSNm0",
        "outputId": "dd6c8ab8-ca56-4070-9b64-fc55011683ed"
      },
      "source": [
        "B.moves"
      ],
      "execution_count": null,
      "outputs": [
        {
          "output_type": "execute_result",
          "data": {
            "text/plain": [
              "array([[0., 0., 0.],\n",
              "       [0., 0., 0.],\n",
              "       [0., 0., 0.]])"
            ]
          },
          "metadata": {
            "tags": []
          },
          "execution_count": 207
        }
      ]
    },
    {
      "cell_type": "markdown",
      "metadata": {
        "id": "IxQZ5FuzStBc"
      },
      "source": [
        "# 3. Now you are to create a computer player. The goal of the computer player is to win if possible, or at worst, not lose. First think about the strategy that you need to codify, and then codify it."
      ]
    },
    {
      "cell_type": "code",
      "metadata": {
        "id": "hCFGwu35SShU"
      },
      "source": [
        "import time\n",
        "\n",
        "class Game:\n",
        "    def __init__(self):\n",
        "        self.initialize_game()\n",
        "\n",
        "    def initialize_game(self):\n",
        "        self.current_state = [['.','.','.'],\n",
        "                              ['.','.','.'],\n",
        "                              ['.','.','.']]\n",
        "\n",
        "        # Player X always plays first\n",
        "        self.player_turn = 'X'\n",
        "\n",
        "    def draw_board(self):\n",
        "        for i in range(0, 3):\n",
        "            for j in range(0, 3):\n",
        "                print('{}|'.format(self.current_state[i][j]), end=\" \")\n",
        "            print()\n",
        "        print()\n",
        "    def is_valid(self, px, py):\n",
        "      if px < 0 or px > 2 or py < 0 or py > 2:\n",
        "          return False\n",
        "      elif self.current_state[px][py] != '.':\n",
        "          return False\n",
        "      else:\n",
        "          return True\n",
        "    def is_end(self):\n",
        "        # Vertical win\n",
        "        for i in range(0, 3):\n",
        "            if (self.current_state[0][i] != '.' and\n",
        "                self.current_state[0][i] == self.current_state[1][i] and\n",
        "                self.current_state[1][i] == self.current_state[2][i]):\n",
        "                return self.current_state[0][i]\n",
        "\n",
        "        # Horizontal win\n",
        "        for i in range(0, 3):\n",
        "            if (self.current_state[i] == ['X', 'X', 'X']):\n",
        "                return 'X'\n",
        "            elif (self.current_state[i] == ['O', 'O', 'O']):\n",
        "                return 'O'\n",
        "\n",
        "        # Main diagonal win\n",
        "        if (self.current_state[0][0] != '.' and\n",
        "            self.current_state[0][0] == self.current_state[1][1] and\n",
        "            self.current_state[0][0] == self.current_state[2][2]):\n",
        "            return self.current_state[0][0]\n",
        "\n",
        "        # Second diagonal win\n",
        "        if (self.current_state[0][2] != '.' and\n",
        "            self.current_state[0][2] == self.current_state[1][1] and\n",
        "            self.current_state[0][2] == self.current_state[2][0]):\n",
        "            return self.current_state[0][2]\n",
        "\n",
        "        # Is whole board full?\n",
        "        for i in range(0, 3):\n",
        "            for j in range(0, 3):\n",
        "                # There's an empty field, we continue the game\n",
        "                if (self.current_state[i][j] == '.'):\n",
        "                    return None\n",
        "\n",
        "        # It's a tie!\n",
        "        return '.'\n",
        "    def max(self):\n",
        "\n",
        "        # Possible values for maxv are:\n",
        "        # -1 - loss\n",
        "        # 0  - a tie\n",
        "        # 1  - win\n",
        "\n",
        "        # We're initially setting it to -2 as worse than the worst case:\n",
        "        maxv = -2\n",
        "\n",
        "        px = None\n",
        "        py = None\n",
        "\n",
        "        result = self.is_end()\n",
        "\n",
        "        # If the game came to an end, the function needs to return\n",
        "        # the evaluation function of the end. That can be:\n",
        "        # -1 - loss\n",
        "        # 0  - a tie\n",
        "        # 1  - win\n",
        "        if result == 'X':\n",
        "            return (-1, 0, 0)\n",
        "        elif result == 'O':\n",
        "            return (1, 0, 0)\n",
        "        elif result == '.':\n",
        "            return (0, 0, 0)\n",
        "\n",
        "        for i in range(0, 3):\n",
        "            for j in range(0, 3):\n",
        "                if self.current_state[i][j] == '.':\n",
        "                    # On the empty field player 'O' makes a move and calls Min\n",
        "                    # That's one branch of the game tree.\n",
        "                    self.current_state[i][j] = 'O'\n",
        "                    (m, min_i, min_j) = self.min()\n",
        "                    # Fixing the maxv value if needed\n",
        "                    if m > maxv:\n",
        "                        maxv = m\n",
        "                        px = i\n",
        "                        py = j\n",
        "                    # Setting back the field to empty\n",
        "                    self.current_state[i][j] = '.'\n",
        "        return (maxv, px, py)\n",
        "    def min(self):\n",
        "\n",
        "        # Possible values for minv are:\n",
        "        # -1 - win\n",
        "        # 0  - a tie\n",
        "        # 1  - loss\n",
        "\n",
        "        # We're initially setting it to 2 as worse than the worst case:\n",
        "        minv = 2\n",
        "\n",
        "        qx = None\n",
        "        qy = None\n",
        "\n",
        "        result = self.is_end()\n",
        "\n",
        "        if result == 'X':\n",
        "            return (-1, 0, 0)\n",
        "        elif result == 'O':\n",
        "            return (1, 0, 0)\n",
        "        elif result == '.':\n",
        "            return (0, 0, 0)\n",
        "\n",
        "        for i in range(0, 3):\n",
        "            for j in range(0, 3):\n",
        "                if self.current_state[i][j] == '.':\n",
        "                    self.current_state[i][j] = 'X'\n",
        "                    (m, max_i, max_j) = self.max()\n",
        "                    if m < minv:\n",
        "                        minv = m\n",
        "                        qx = i\n",
        "                        qy = j\n",
        "                    self.current_state[i][j] = '.'\n",
        "\n",
        "        return (minv, qx, qy)\n",
        "    def play(self):\n",
        "        while True:\n",
        "            self.draw_board()\n",
        "            self.result = self.is_end()\n",
        "\n",
        "            # Printing the appropriate message if the game has ended\n",
        "            if self.result != None:\n",
        "                if self.result == 'X':\n",
        "                    print('The winner is X!')\n",
        "                elif self.result == 'O':\n",
        "                    print('The winner is O!')\n",
        "                elif self.result == '.':\n",
        "                    print(\"It's a tie!\")\n",
        "\n",
        "                self.initialize_game()\n",
        "                return\n",
        "\n",
        "            # If it's player's turn\n",
        "            if self.player_turn == 'X':\n",
        "\n",
        "                while True:\n",
        "\n",
        "                    start = time.time()\n",
        "                    (m, qx, qy) = self.min()\n",
        "                    end = time.time()\n",
        "                    print('Evaluation time: {}s'.format(round(end - start, 7)))\n",
        "                    print('Recommended move: X = {}, Y = {}'.format(qx, qy))\n",
        "\n",
        "                    px = int(input('Insert the X coordinate: '))\n",
        "                    py = int(input('Insert the Y coordinate: '))\n",
        "\n",
        "                    (qx, qy) = (px, py)\n",
        "\n",
        "                    if self.is_valid(px, py):\n",
        "                        self.current_state[px][py] = 'X'\n",
        "                        self.player_turn = 'O'\n",
        "                        break\n",
        "                    else:\n",
        "                        print('The move is not valid! Try again.')\n",
        "\n",
        "            # If it's AI's turn\n",
        "            else:\n",
        "                (m, px, py) = self.max()\n",
        "                self.current_state[px][py] = 'O'\n",
        "                self.player_turn = 'X'\n"
      ],
      "execution_count": null,
      "outputs": []
    },
    {
      "cell_type": "code",
      "metadata": {
        "colab": {
          "base_uri": "https://localhost:8080/"
        },
        "id": "uoFuPmYfhWQL",
        "outputId": "8cb656cc-1a6c-4c10-bfe3-b3d89e3ab32b"
      },
      "source": [
        "def main():\n",
        "    g = Game()\n",
        "    g.play()\n",
        "\n",
        "if __name__ == \"__main__\":\n",
        "    main()"
      ],
      "execution_count": null,
      "outputs": [
        {
          "output_type": "stream",
          "text": [
            ".| .| .| \n",
            ".| .| .| \n",
            ".| .| .| \n",
            "\n",
            "Evaluation time: 3.28722s\n",
            "Recommended move: X = 0, Y = 0\n",
            "Insert the X coordinate: 0\n",
            "Insert the Y coordinate: 0\n",
            "X| .| .| \n",
            ".| .| .| \n",
            ".| .| .| \n",
            "\n",
            "X| .| .| \n",
            ".| O| .| \n",
            ".| .| .| \n",
            "\n",
            "Evaluation time: 0.0437024s\n",
            "Recommended move: X = 0, Y = 1\n",
            "Insert the X coordinate: 0\n",
            "Insert the Y coordinate: 2\n",
            "X| .| X| \n",
            ".| O| .| \n",
            ".| .| .| \n",
            "\n",
            "X| O| X| \n",
            ".| O| .| \n",
            ".| .| .| \n",
            "\n",
            "Evaluation time: 0.0015874s\n",
            "Recommended move: X = 2, Y = 1\n",
            "Insert the X coordinate: 2\n",
            "Insert the Y coordinate: 1\n",
            "X| O| X| \n",
            ".| O| .| \n",
            ".| X| .| \n",
            "\n",
            "X| O| X| \n",
            "O| O| .| \n",
            ".| X| .| \n",
            "\n",
            "Evaluation time: 9.2e-05s\n",
            "Recommended move: X = 1, Y = 2\n",
            "Insert the X coordinate: 1\n",
            "Insert the Y coordinate: 2\n",
            "X| O| X| \n",
            "O| O| X| \n",
            ".| X| .| \n",
            "\n",
            "X| O| X| \n",
            "O| O| X| \n",
            ".| X| O| \n",
            "\n",
            "Evaluation time: 2.86e-05s\n",
            "Recommended move: X = 2, Y = 0\n",
            "Insert the X coordinate: 2\n",
            "Insert the Y coordinate: 0\n",
            "X| O| X| \n",
            "O| O| X| \n",
            "X| X| O| \n",
            "\n",
            "It's a tie!\n"
          ],
          "name": "stdout"
        }
      ]
    }
  ]
}