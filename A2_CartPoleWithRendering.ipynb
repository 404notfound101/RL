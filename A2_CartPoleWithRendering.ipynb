{
  "nbformat": 4,
  "nbformat_minor": 0,
  "metadata": {
    "colab": {
      "name": "A2_CartPoleWithRendering.ipynb",
      "provenance": [],
      "collapsed_sections": []
    },
    "kernelspec": {
      "name": "python3",
      "display_name": "Python 3"
    },
    "accelerator": "GPU"
  },
  "cells": [
    {
      "cell_type": "code",
      "metadata": {
        "id": "1XDvssQd64Pf"
      },
      "source": [
        "!apt-get install -y xvfb python-opengl > /dev/null 2>&1"
      ],
      "execution_count": null,
      "outputs": []
    },
    {
      "cell_type": "code",
      "metadata": {
        "id": "F5esgX013vPe"
      },
      "source": [
        "!pip install gym pyvirtualdisplay > /dev/null 2>&1"
      ],
      "execution_count": null,
      "outputs": []
    },
    {
      "cell_type": "code",
      "metadata": {
        "id": "Qbi2xaFo31Sj"
      },
      "source": [
        "import gym\n",
        "import numpy as np\n",
        "import matplotlib.pyplot as plt\n",
        "from IPython import display as ipythondisplay"
      ],
      "execution_count": null,
      "outputs": []
    },
    {
      "cell_type": "code",
      "metadata": {
        "id": "FGqXqJxoAsHG",
        "colab": {
          "base_uri": "https://localhost:8080/"
        },
        "outputId": "2e180114-35db-4ffb-a84b-54e11af398fe"
      },
      "source": [
        "from pyvirtualdisplay import Display\n",
        "display = Display(visible=0, size=(400, 300))\n",
        "display.start()"
      ],
      "execution_count": null,
      "outputs": [
        {
          "output_type": "execute_result",
          "data": {
            "text/plain": [
              "<pyvirtualdisplay.display.Display at 0x7fa1d9b71f50>"
            ]
          },
          "metadata": {
            "tags": []
          },
          "execution_count": 9
        }
      ]
    },
    {
      "cell_type": "code",
      "metadata": {
        "id": "6L4YayzR4FYj",
        "colab": {
          "base_uri": "https://localhost:8080/",
          "height": 286
        },
        "outputId": "53ab4c6e-0ba6-4f1f-8463-c27a8f194845"
      },
      "source": [
        "env = gym.make(\"CartPole-v0\")\n",
        "env.reset()\n",
        "prev_screen = env.render(mode='rgb_array')\n",
        "plt.imshow(prev_screen)\n",
        "\n",
        "for i in range(50000):\n",
        "  action = env.action_space.sample()\n",
        "  print(\"step i\",i,\"action=\",action)\n",
        "  obs, reward, done, info = env.step(action)\n",
        "  print(\"obs=\",obs,\"reward=\",reward,\"done=\",done,\"info=\",info)\n",
        "  screen = env.render(mode='rgb_array')\n",
        "  \n",
        "  plt.imshow(screen)\n",
        "  ipythondisplay.clear_output(wait=True)\n",
        "  ipythondisplay.display(plt.gcf())\n",
        "\n",
        "  if done:\n",
        "    break\n",
        "    \n",
        "ipythondisplay.clear_output(wait=True)\n",
        "env.close()\n",
        "print(\"Iterations that were run:\",i)"
      ],
      "execution_count": null,
      "outputs": [
        {
          "output_type": "stream",
          "text": [
            "Iterations that were run: 10\n"
          ],
          "name": "stdout"
        },
        {
          "output_type": "display_data",
          "data": {
            "image/png": "[encoded data removed]",
            "text/plain": [
              "<Figure size 432x288 with 1 Axes>"
            ]
          },
          "metadata": {
            "tags": [],
            "needs_background": "light"
          }
        }
      ]
    },
    {
      "cell_type": "markdown",
      "metadata": {
        "id": "WgBHRuyFkyB1"
      },
      "source": [
        "# DP"
      ]
    },
    {
      "cell_type": "code",
      "metadata": {
        "id": "63FOcvdqTlGQ"
      },
      "source": [
        "import torch\n",
        "from torch import nn"
      ],
      "execution_count": null,
      "outputs": []
    },
    {
      "cell_type": "code",
      "metadata": {
        "id": "8r1_rMg2nwVG"
      },
      "source": [
        "class DP():\n",
        "  def __init__(self):\n",
        "    self.maxlifetime = 200\n",
        "    self.value = {}\n",
        "    self.stepsHistory = {}\n",
        "    \n",
        "  def act(self, state):\n",
        "    a = env.action_space.sample()\n",
        "    if not state in self.value:\n",
        "      for _ in range(env.action_space.n):\n",
        "        self.value[state].append(0)\n",
        "    for action in range(env.action_space.n):\n",
        "      if self.value[state][a] < self.value[state][action]:\n",
        "        a = action\n",
        "    return a\n",
        "\n",
        "  def getState(self,obs):\n",
        "    state = \"\"\n",
        "    for o in obs:\n",
        "      state += str(math.floor(o))\n",
        "    return state \n",
        "\n",
        "  def update(self, )"
      ],
      "execution_count": null,
      "outputs": []
    },
    {
      "cell_type": "code",
      "metadata": {
        "id": "a0njQdkeeQSl"
      },
      "source": [
        "model = DP()\n"
      ],
      "execution_count": null,
      "outputs": []
    },
    {
      "cell_type": "markdown",
      "metadata": {
        "id": "ozkNSgFcPJRR"
      },
      "source": [
        "#  MC"
      ]
    },
    {
      "cell_type": "markdown",
      "metadata": {
        "id": "sGOgy-16iWGR"
      },
      "source": [
        "A Monte Carlo solution requires a e-soft policy to get the capablity of exploration. We can generate several episodes with both exploration and exploitation which would be the experience the agent will learn from. In order to get a final deterministic policy, a decay would be applied on the e."
      ]
    },
    {
      "cell_type": "code",
      "metadata": {
        "id": "ZzgYgsEFiAcB"
      },
      "source": [
        "from random import randint\n",
        "import math"
      ],
      "execution_count": null,
      "outputs": []
    },
    {
      "cell_type": "code",
      "metadata": {
        "id": "l-iwGRbhLJiq"
      },
      "source": [
        "nbEpisodes = 2000\n"
      ],
      "execution_count": null,
      "outputs": []
    },
    {
      "cell_type": "code",
      "metadata": {
        "id": "3Ebgu_JzPidj"
      },
      "source": [
        "class MC():\n",
        "  def __init__(self):\n",
        "    self.stepsHistory = [0]*2000\n",
        "    self.value = {}\n",
        "    self.decayW = 0.02\n",
        "    self.decayB = 20\n",
        "    self.maxlifetime = 200\n",
        "\n",
        "  def act(self,state,decay):\n",
        "    minCount = 0 #env.action_space.sample()\n",
        "    maxValue = 0 #env.action_space.sample()\n",
        "    if not state in self.value:\n",
        "      self.value[state] = []\n",
        "      for _ in range(env.action_space.n):\n",
        "        self.value[state].append({'count':0, 'value':0})\n",
        "    for action in range(env.action_space.n):\n",
        "      if self.value[state][minCount]['count'] > self.value[state][action]['count']:\n",
        "        minCount = action\n",
        "      if self.value[state][maxValue]['value'] < self.value[state][action]['value']:\n",
        "        maxValue = action\n",
        "    if randint(0, 100) < decay:\n",
        "      return minCount\n",
        "    else:\n",
        "      return maxValue\n",
        "  def Decay(self,epicode_count):\n",
        "    return max(-epicode_count*self.decayW+self.decayB,10/(epicode_count+1))\n",
        "\n",
        "  def mc_sample(self, obs, decay, epicode_count):\n",
        "    episodeStatesActions = []\n",
        "    G = 0\n",
        "    for t in range(self.maxlifetime):\n",
        "      state = self.getState(obs)\n",
        "      action = self.act(state,decay)\n",
        "      episodeStatesActions.append({'state': state, 'action': action})\n",
        "      obs, reward, done, _ = env.step(action)\n",
        "      G += reward\n",
        "      if done:\n",
        "        self.stepsHistory[epicode_count] = t\n",
        "        for i, state_action in enumerate(episodeStatesActions):\n",
        "          self.update(state_action['state'], state_action['action'], G-i)\n",
        "        break\n",
        "\n",
        "  def update(self, state, action, G):\n",
        "\t  self.value[state][action]['value'] = (self.value[state][action]['value'] * self.value[state][action]['count'] + G) / (self.value[state][action]['count'] + 1)\n",
        "\t  self.value[state][action]['count'] += 1\n",
        "\n",
        "  def getState(self,obs):\n",
        "    state = \"\"\n",
        "    for o in obs:\n",
        "      state += str(math.floor(o))\n",
        "    return state"
      ],
      "execution_count": null,
      "outputs": []
    },
    {
      "cell_type": "code",
      "metadata": {
        "id": "e8ywIuKlZs43"
      },
      "source": [
        "agent = MC()\n",
        "for epicode_count in range(nbEpisodes):\n",
        "  obs = env.reset()\n",
        "  decay = agent.Decay(epicode_count)\n",
        "  agent.mc_sample(obs,decay,epicode_count)\n",
        "  "
      ],
      "execution_count": null,
      "outputs": []
    },
    {
      "cell_type": "code",
      "metadata": {
        "colab": {
          "base_uri": "https://localhost:8080/"
        },
        "id": "dudXQCJtgEWo",
        "outputId": "c4bcaae3-4123-4879-844b-95e394d08611"
      },
      "source": [
        "agent.stepsHistory[-1]"
      ],
      "execution_count": null,
      "outputs": [
        {
          "output_type": "execute_result",
          "data": {
            "text/plain": [
              "188"
            ]
          },
          "metadata": {
            "tags": []
          },
          "execution_count": 61
        }
      ]
    },
    {
      "cell_type": "code",
      "metadata": {
        "colab": {
          "base_uri": "https://localhost:8080/",
          "height": 286
        },
        "id": "dW0UQ4yXexjy",
        "outputId": "b134b9f4-2dbd-423e-e5d7-9b1f7a18e2e1"
      },
      "source": [
        "env = gym.make(\"CartPole-v0\")\n",
        "env.reset()\n",
        "prev_screen = env.render(mode='rgb_array')\n",
        "plt.imshow(prev_screen)\n",
        "obs = env.reset()\n",
        "for i in range(50000):\n",
        "  state = agent.getState(obs)\n",
        "  action = agent.act(state,decay=0)\n",
        "  print(\"step i\",i,\"action=\",action)\n",
        "  obs, reward, done, info = env.step(action)\n",
        "  print(\"obs=\",obs,\"reward=\",reward,\"done=\",done,\"info=\",info)\n",
        "  screen = env.render(mode='rgb_array')\n",
        "  \n",
        "  plt.imshow(screen)\n",
        "  ipythondisplay.clear_output(wait=True)\n",
        "  ipythondisplay.display(plt.gcf())\n",
        "\n",
        "  if done:\n",
        "    break\n",
        "    \n",
        "ipythondisplay.clear_output(wait=True)\n",
        "env.close()\n",
        "print(\"Iterations that were run:\",i)"
      ],
      "execution_count": null,
      "outputs": [
        {
          "output_type": "stream",
          "text": [
            "Iterations that were run: 154\n"
          ],
          "name": "stdout"
        },
        {
          "output_type": "display_data",
          "data": {
            "image/png": "[encoded data removed]",
            "text/plain": [
              "<Figure size 432x288 with 1 Axes>"
            ]
          },
          "metadata": {
            "tags": [],
            "needs_background": "light"
          }
        }
      ]
    }
  ]
}